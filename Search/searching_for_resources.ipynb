{
 "cells": [
  {
   "cell_type": "markdown",
   "metadata": {},
   "source": [
    "# Searching for resources"
   ]
  },
  {
   "cell_type": "markdown",
   "metadata": {},
   "source": [
    "The Libraries provide access to a variety of resources listed below. In Engineering and Physical Sciences topics, you are most likely to encounter books and journal articles, but many other resources may be relevant to your work. "
   ]
  },
  {
   "cell_type": "markdown",
   "metadata": {},
   "source": [
    "![Start Your Search](images/information_landscape.jpg)"
   ]
  },
  {
   "cell_type": "markdown",
   "metadata": {},
   "source": [
    "## UC Library Search\n",
    "\n",
    "The **UC Library Search** tool helps students search across the Berkeley (and University of California) collections with one search box. This is a great place to start if you have no idea where to start looking. It searches for books, articles, book reviews, newspaper articles, and more.\n",
    "\n",
    "What's included in **UC Library Search**?\n",
    "The following searches focus on different collections:\n",
    "\n",
    "- **Articles, books, and more** (most comprehensive) includes library collections from all 10 UC campuses.\n",
    "- **UC Berkeley catalog** includes almost all UC Berkeley library collections (see what is excluded).\n",
    "- **Course reserves** includes all course reserves.\n",
    "- **UC Berkeley special collection and archives** includes manuscripts, rare books, photographs, etc.\n"
   ]
  },
  {
   "cell_type": "markdown",
   "metadata": {},
   "source": [
    "![UC Library Search](images/uc_library_search_arrow.png)"
   ]
  },
  {
   "cell_type": "markdown",
   "metadata": {},
   "source": [
    "Find the **UC Library Search** box in the middle of the library homepage shown above, or in the upper left of Subject Library pages:"
   ]
  },
  {
   "cell_type": "markdown",
   "metadata": {},
   "source": [
    "![UC Library Search](images/subject_page.png)"
   ]
  },
  {
   "cell_type": "markdown",
   "metadata": {},
   "source": [
    "Once you enter your search query, you'll see results displayed similar to the image below. Use the filters on the left to refine your results according to date, language and availability."
   ]
  },
  {
   "cell_type": "markdown",
   "metadata": {},
   "source": [
    "![UC Library Search](images/filters.png)"
   ]
  },
  {
   "cell_type": "markdown",
   "metadata": {},
   "source": [
    "In the next section, you will have the opportunity to explore article databases."
   ]
  },
  {
   "cell_type": "code",
   "execution_count": null,
   "metadata": {},
   "outputs": [],
   "source": []
  }
 ],
 "metadata": {
  "kernelspec": {
   "display_name": "Python 3",
   "language": "python",
   "name": "python3"
  },
  "language_info": {
   "codemirror_mode": {
    "name": "ipython",
    "version": 3
   },
   "file_extension": ".py",
   "mimetype": "text/x-python",
   "name": "python",
   "nbconvert_exporter": "python",
   "pygments_lexer": "ipython3",
   "version": "3.7.6"
  }
 },
 "nbformat": 4,
 "nbformat_minor": 4
}
