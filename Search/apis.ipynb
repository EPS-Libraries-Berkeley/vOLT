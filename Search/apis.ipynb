{
 "cells": [
  {
   "cell_type": "markdown",
   "metadata": {},
   "source": [
    "# Introduction to Searching with APIs"
   ]
  },
  {
   "cell_type": "markdown",
   "metadata": {},
   "source": [
    "Searching for scientific articles using an API (application programming interface) allows you to extract data from publisher platforms and databases. With an API, you can create programmatic searches of a citation database, extract statistical data, or query and manipulate your results within a Notebook."
   ]
  },
  {
   "cell_type": "markdown",
   "metadata": {},
   "source": [
    "In this chapter, we will look at two APIs, CrossRef and arXiv."
   ]
  },
  {
   "cell_type": "markdown",
   "metadata": {},
   "source": [
    "## 1. What is Crossref?\n",
    "\n",
    "Crossref is a non-profit organization that helps to provides access to scientific literature. According to their [website](https://www.crossref.org/), Crossref \"makes research outputs easy to find, cite, link, and assess\". \n",
    "\n",
    "Crossref data on scientific publications essentially consists of three elements:\n",
    "<br>\n",
    "    1) Metadata about a publication\n",
    "    <br>\n",
    "    2) A URL link to the article\n",
    "    <br>\n",
    "    3) A document identifier (doi)\n",
    "    <br>\n",
    "    \n",
    "At present Crossref contains information on 80 million scientific publications including articles, books and book chapters."
   ]
  },
  {
   "cell_type": "markdown",
   "metadata": {},
   "source": [
    "## 2. What is arXiV?"
   ]
  },
  {
   "cell_type": "code",
   "execution_count": null,
   "metadata": {},
   "outputs": [],
   "source": []
  }
 ],
 "metadata": {
  "kernelspec": {
   "display_name": "Python 3",
   "language": "python",
   "name": "python3"
  },
  "language_info": {
   "codemirror_mode": {
    "name": "ipython",
    "version": 3
   },
   "file_extension": ".py",
   "mimetype": "text/x-python",
   "name": "python",
   "nbconvert_exporter": "python",
   "pygments_lexer": "ipython3",
   "version": "3.7.6"
  }
 },
 "nbformat": 4,
 "nbformat_minor": 4
}
