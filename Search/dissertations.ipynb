{
 "cells": [
  {
   "cell_type": "markdown",
   "id": "3f9c4ae2",
   "metadata": {},
   "source": [
    "# Dissertations and Theses (Digitized)"
   ]
  },
  {
   "cell_type": "markdown",
   "id": "81d11d06",
   "metadata": {},
   "source": [
    "## Introduction"
   ]
  },
  {
   "cell_type": "markdown",
   "id": "5d328682",
   "metadata": {},
   "source": [
    "This page is dedicated to describe how to search for dissertations in the ProQuest Dissertations and Theses (Dissertation Abstracts) database. Due to constraints of Proquest and a lack of digitized dissertations, it is not possible to precisely bring up a list of all the dissertations for any department. The goal of this guide is to provide the reader information on how to get the highest search return of a department's dissertations. While these searches are geared toward specific departments at UC Berkeley, you can adapt these searches to find dissertations from other departments and universities/colleges."
   ]
  },
  {
   "cell_type": "markdown",
   "id": "b59f9310",
   "metadata": {},
   "source": [
    "<a href=\"https://www-proquest-com.libproxy.berkeley.edu/pqdtglobal/advanced?accountid=14496\">ProQuest Dissertations and Theses (Dissertation Abstracts).</a>"
   ]
  },
  {
   "cell_type": "markdown",
   "id": "9324a2b9",
   "metadata": {},
   "source": [
    "![Image of searching on proquest](images/dissertationimage1.jpg)"
   ]
  },
  {
   "cell_type": "markdown",
   "id": "c3ff5b33",
   "metadata": {},
   "source": [
    "If you want to search for dissertations from a specific university/college, then \n",
    "Click on:\n",
    " - Graduate Theological Union and University of California, Berkeley\n",
    " - University of California, Berkeley\n",
    " - University of California, Berkeley and San Diego State University\n",
    " - University of California, Berkeley with San Francisco State University\n",
    " - University of California, Berkeley with the University of California, San  -  - Francisco\n",
    " - University of California, San Francisco with the University of California, Berkeley\n",
    "\n",
    "Proquest has the option to choose Master’s or Doctorate manuscript types but for certain majors there are only doctorate manuscripts in the system."
   ]
  },
  {
   "cell_type": "markdown",
   "id": "c538662b",
   "metadata": {},
   "source": [
    "Possible issues during your search:\n",
    " - Department type is not always documented in the abstract so it could be missed in searches. \n",
    " - A workaround is searching for “Doctor of Philosophy in <insert department name>” “Anywhere” in the search.\n",
    " - Different versions for department spellings\n",
    "    - Example: “and” or “&”\n",
    "If there are errors on the title page listing the Doctor of Philosophy for the name of the department that dissertation would be missing from the search.\n",
    "\n",
    "To search for non-digitized dissertations use <a href=\"https://search.library.berkeley.edu/discovery/search?vid=01UCS_BER:UCB\">UC Library Search.</a>"
   ]
  },
  {
   "cell_type": "markdown",
   "id": "d7950ac0",
   "metadata": {},
   "source": [
    "## Earth & Planetary Sciences"
   ]
  },
  {
   "cell_type": "markdown",
   "id": "550fdb91",
   "metadata": {},
   "source": [
    "The Earth & Planetary Sciences Department offers master and doctoral degrees to students who are studying earth or planetary sciences.\n",
    "Prior to 2007, there was a Geology department that was separate from the Earth & Planetary Sciences Department. Therefore for doctoral dissertations, they have a “Doctor of Philosophy in Geology” on the title page.\n",
    "\n",
    "To begin your search go to: <a href=\"https://www-proquest-com.libproxy.berkeley.edu/pqdtglobal/advanced?accountid=14496\">ProQuest Dissertations and Theses (Dissertation Abstracts).</a>"
   ]
  },
  {
   "cell_type": "markdown",
   "id": "dcea54b9",
   "metadata": {},
   "source": [
    "Earth and Planetary science department dissertation titles:\n",
    " - Earth and Planetary Science\n",
    " - Earth & Planetary Science\n",
    " - Geology\n",
    "    - In the past Geology was listed as a separate department for dissertations."
   ]
  },
  {
   "cell_type": "markdown",
   "id": "3f641f7f",
   "metadata": {},
   "source": [
    "Search for Earth and Planetary Science Department manuscripts: <br>\n",
    "(\"Doctor of Philosophy in Earth and Planetary Science\" OR \"Doctor of Philosophy in Earth & Planetary Science\") AND sch.Exact(\"University of California, Berkeley\" OR \"University of California, Berkeley with the University of California, San Francisco\" OR \"University of California, San Francisco with the University of California, Berkeley\" OR \"University of California, Berkeley with San Francisco State University\" OR \"University of California, Berkeley and San Diego State University\")"
   ]
  },
  {
   "cell_type": "markdown",
   "id": "8d134a28",
   "metadata": {},
   "source": [
    "![Image of searching on proquest](images/dissertationimage2.jpg)"
   ]
  },
  {
   "cell_type": "markdown",
   "id": "3f3be37c",
   "metadata": {},
   "source": [
    "Search for Geology Department manuscripts: <br>\n",
    "\"Doctor of Philosophy in Geology\" AND sch.Exact(\"University of California, Berkeley\" OR \"University of California, Berkeley with the University of California, San Francisco\" OR \"University of California, San Francisco with the University of California, Berkeley\" OR \"University of California, Berkeley with San Francisco State University\" OR \"Graduate Theological Union and University of California, Berkeley\" OR \"University of California, Berkeley and San Diego State University\")\n"
   ]
  },
  {
   "cell_type": "markdown",
   "id": "fbdb86b4",
   "metadata": {},
   "source": [
    "## Geography"
   ]
  },
  {
   "cell_type": "markdown",
   "id": "75f4239b",
   "metadata": {},
   "source": [
    "\n",
    "The geography departments offers doctoral degrees to students studying geography. To begin your search go to: <a href=\"https://www-proquest-com.libproxy.berkeley.edu/pqdtglobal/advanced?accountid=14496\">ProQuest Dissertations and Theses (Dissertation Abstracts).</a>"
   ]
  },
  {
   "cell_type": "markdown",
   "id": "dda21791",
   "metadata": {},
   "source": [
    "Search for Geography Department manuscripts:<br>\n",
    "\"Doctor of Philosophy in Geography\" AND sch.Exact(\"University of California, Berkeley\" OR \"University of California, Berkeley with the University of California, San Francisco\" OR \"University of California, San Francisco with the University of California, Berkeley\" OR \"University of California, Berkeley with San Francisco State University\" OR \"University of California, Berkeley and San Diego State University\")\n"
   ]
  },
  {
   "cell_type": "markdown",
   "id": "7286d94e",
   "metadata": {},
   "source": [
    "![Image of searching on proquest](images/dissertationimage4.jpg)"
   ]
  }
 ],
 "metadata": {
  "kernelspec": {
   "display_name": "Python 3",
   "language": "python",
   "name": "python3"
  },
  "language_info": {
   "codemirror_mode": {
    "name": "ipython",
    "version": 3
   },
   "file_extension": ".py",
   "mimetype": "text/x-python",
   "name": "python",
   "nbconvert_exporter": "python",
   "pygments_lexer": "ipython3",
   "version": "3.8.8"
  }
 },
 "nbformat": 4,
 "nbformat_minor": 5
}
