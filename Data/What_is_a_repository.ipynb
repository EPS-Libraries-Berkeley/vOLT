{
 "cells": [
  {
   "cell_type": "markdown",
   "metadata": {},
   "source": [
    "# Archival Repositories"
   ]
  },
  {
   "cell_type": "markdown",
   "metadata": {},
   "source": [
    "An archival repository is a place where documents and objects are stored and maintained. A digital archival repository stores and maintains digital objects, including various scholarly outputs with the intent of providing long-term storage and discovery for future use. Scholarly outputs in the form of digital objects include data, code, models, images, audio files, pre-prints, posters, and more.\n"
   ]
  },
  {
   "cell_type": "markdown",
   "metadata": {},
   "source": [
    "Funders and publishers may require that data, code, and other supporting materials be deposited in a repository at the end of a project or prior to publication. The data and other outputs are securely stored, routinely maintained, and made accessible for years to come. "
   ]
  },
  {
   "cell_type": "markdown",
   "metadata": {},
   "source": [
    "## Generalist Repository Comparison Chart"
   ]
  },
  {
   "cell_type": "markdown",
   "metadata": {},
   "source": [
    "Please see the below comparison chart to learn more about generalist repositories that accept data regardless of format, type, content, or disciplinary focus. \n",
    "\n"
   ]
  },
  {
   "cell_type": "markdown",
   "metadata": {},
   "source": [
    "<iframe src=\"https://drive.google.com/file/d/1htCaNTLLR0zwdRmHRNiDrHNmRKFh_aIQ/preview\" width=\"600\", height=\"300\"></iframe>"
   ]
  },
  {
   "cell_type": "markdown",
   "metadata": {},
   "source": [
    "Stall, Shelley, Martone, Maryann E., Chandramouliswaran, Ishwar, Crosas, Mercè, Federer, Lisa, Gautier, Julian, Hahnel, Mark, Larkin, Jennie, Lowenberg, Daniella, Pfeiffer, Nicole, Sim, Ida, Smith, Tim, Van Gulick, Ana E., Walker, Erin, Wood, Julie, Zaringhalam, Maryam, & Zigoni, Alberto. (2020). Generalist Repository Comparison Chart. Zenodo. https://doi.org/10.5281/zenodo.3946720"
   ]
  }
 ],
 "metadata": {
  "kernelspec": {
   "display_name": "Python 3",
   "language": "python",
   "name": "python3"
  },
  "language_info": {
   "codemirror_mode": {
    "name": "ipython",
    "version": 3
   },
   "file_extension": ".py",
   "mimetype": "text/x-python",
   "name": "python",
   "nbconvert_exporter": "python",
   "pygments_lexer": "ipython3",
   "version": "3.7.6"
  }
 },
 "nbformat": 4,
 "nbformat_minor": 4
}
