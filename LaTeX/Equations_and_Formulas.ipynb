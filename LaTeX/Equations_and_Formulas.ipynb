{
 "cells": [
  {
   "cell_type": "markdown",
   "metadata": {},
   "source": [
    "# Equations and Formulas"
   ]
  },
  {
   "cell_type": "markdown",
   "metadata": {},
   "source": [
    "*Objective: Learn the basic commands for rendering mathematics in LaTeX.*"
   ]
  },
  {
   "cell_type": "markdown",
   "metadata": {},
   "source": [
    "## Getting Started: Basic Equations"
   ]
  },
  {
   "cell_type": "markdown",
   "metadata": {},
   "source": [
    "### Inline vs Display Style\n",
    "\n",
    "To add math to your LaTeX documents, you first have to enter math mode. Math can be displayed inline or in math blocks (called display style). To render equations in inline style, enclose them in a pair of dollar signs `$...$`.\n",
    "\n",
    "*Inline:* Using `$x + y = z$` will display the equation $x + y = z$ in the line. \n",
    "\n",
    "To render equations in display style, LaTeX offers several options. We suggest using `\\[...\\]` to start.\n",
    "\n",
    "*Display:* Using `\\[ x + y = z \\]` will display the equation centered on its own line as below. \n",
    "\n",
    "$$\n",
    "x + y = z\n",
    "$$\n",
    "\n",
    "### Simple Operators, Subscripts, Superscripts \\& More\n",
    "\n",
    "To render simple equations, you will also need to know syntax and commands for some operators, relations, subscripts, superscripts, and fractions.\n",
    "\n",
    "**Operators \\& Relations:**<br/>\n",
    "+, -, +, >, < work as expected. Here are some other commands:\n",
    "\n",
    "| Command | Result | Command | Result |\n",
    "| :---: | :---: | :---: | :---: |\n",
    "| `\\times` | $\\times$ | `\\cdot` | $\\cdot$ |\n",
    "| `\\div` | $\\div$ | `\\pm` | $\\pm$ |\n",
    "| `\\geq` | $\\geq$ | `\\leq` | $\\leq$ |\n",
    "| `\\neq` | $\\neq$ | `\\approx` | $\\approx$ |\n",
    "\n",
    "**Subscript:** use the underscore (\\_) / **Superscript**: use the carret (\\^)\n",
    "```{note}\n",
    "If the subscript or superscript includes more than one character, enclose it in\n",
    "curly brackets--otherwise the command applies only to the first character.\n",
    "```\n",
    "`$x^n+1$` gives $x^n+1$ \\&  `$x^{n+1}$` gives $x^{n+1}$\n"
   ]
  },
  {
   "cell_type": "code",
   "execution_count": null,
   "metadata": {},
   "outputs": [],
   "source": []
  }
 ],
 "metadata": {
  "celltoolbar": "Tags",
  "kernelspec": {
   "display_name": "Python 3",
   "language": "python",
   "name": "python3"
  },
  "language_info": {
   "codemirror_mode": {
    "name": "ipython",
    "version": 3
   },
   "file_extension": ".py",
   "mimetype": "text/x-python",
   "name": "python",
   "nbconvert_exporter": "python",
   "pygments_lexer": "ipython3",
   "version": "3.7.6"
  }
 },
 "nbformat": 4,
 "nbformat_minor": 4
}
