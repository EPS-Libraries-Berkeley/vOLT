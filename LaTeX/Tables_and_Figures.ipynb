{
 "cells": [
  {
   "cell_type": "markdown",
   "metadata": {},
   "source": [
    "# Tables and Figures"
   ]
  },
  {
   "cell_type": "markdown",
   "metadata": {},
   "source": [
    "*Objective: Learn the basic commands to create and edit tables.*"
   ]
  },
  {
   "cell_type": "markdown",
   "metadata": {},
   "source": [
    "## Tables"
   ]
  },
  {
   "cell_type": "markdown",
   "metadata": {},
   "source": [
    "Basic tables can be created with a combination of the commands below and the **use package**: `tabularx`"
   ]
  },
  {
   "cell_type": "markdown",
   "metadata": {},
   "source": [
    "|Basic Commands|Description|\n",
    "|-----||\n",
    "|`l, r, c` | column alignment|\n",
    "|`&` |ampersand separates columns|\n",
    "| `\\\\` | double backslash begins new row|\n",
    "| `\\hline` |horizontal line|\n",
    "| \\| |\tvertical line|"
   ]
  },
  {
   "cell_type": "markdown",
   "metadata": {},
   "source": [
    "### Example 1: two column table"
   ]
  },
  {
   "cell_type": "markdown",
   "metadata": {},
   "source": [
    "![Basic](images/tables_basic.png)"
   ]
  },
  {
   "cell_type": "markdown",
   "metadata": {},
   "source": [
    "### Example 2: vertical and horizontal lines are added"
   ]
  },
  {
   "cell_type": "markdown",
   "metadata": {},
   "source": [
    "![Lines](images/tables_lines.png)"
   ]
  },
  {
   "cell_type": "markdown",
   "metadata": {},
   "source": [
    "### Example 3: With caption and centering\n",
    "\n",
    "Note the addition the `\\caption` and `\\centering` commands."
   ]
  },
  {
   "cell_type": "markdown",
   "metadata": {},
   "source": [
    "![Caption](images/tables_caption.png)"
   ]
  },
  {
   "cell_type": "markdown",
   "metadata": {},
   "source": [
    "## *EXERCISE 1*\n",
    "\n",
    "Use the `tabularx` package to create a simple table of the US Women’s Soccer Team’s 2019 World Cup Starting Roster: https://www.ussoccer.com/players\n",
    "\n",
    "Begin with a header row and two columns.\n",
    "* Your two column headers will be: Position and Last Name – Left align the text of the left column\n",
    "* Center the text of the right column\n",
    "* Add vertical and horizontal lines\n",
    "\n",
    "Add a caption “2019 Team Roster” and center the table.  \n",
    "Note: Using the `\\caption{}` command will add the phrase “Table 1” in front of caption.\n",
    "\n",
    "Use package needed: `tabularx`\n",
    "\n",
    "Commands needed:  \n",
    "`&` = column separator  \n",
    "`\\\\` = begin new row  \n",
    "`l, r, c` = column alignment  "
   ]
  },
  {
   "cell_type": "markdown",
   "metadata": {},
   "source": [
    "| Position | Last Name |\n",
    "|-|-|\n",
    "| GK | Naeher |\n",
    "| D | Sauerbrunn |\n",
    "| D | Dahlkemper |\n",
    "| D | O’Hara |\n",
    "| D | Dunn |\n",
    "| M | Mewis |\n",
    "| M | Ertz |\n"
   ]
  },
  {
   "cell_type": "markdown",
   "metadata": {},
   "source": [
    "### Additional Challenges"
   ]
  },
  {
   "cell_type": "markdown",
   "metadata": {},
   "source": [
    "## Figures"
   ]
  },
  {
   "cell_type": "code",
   "execution_count": null,
   "metadata": {},
   "outputs": [],
   "source": []
  }
 ],
 "metadata": {
  "kernelspec": {
   "display_name": "Python 3",
   "language": "python",
   "name": "python3"
  },
  "language_info": {
   "codemirror_mode": {
    "name": "ipython",
    "version": 3
   },
   "file_extension": ".py",
   "mimetype": "text/x-python",
   "name": "python",
   "nbconvert_exporter": "python",
   "pygments_lexer": "ipython3",
   "version": "3.7.6"
  }
 },
 "nbformat": 4,
 "nbformat_minor": 4
}
