{
 "cells": [
  {
   "cell_type": "markdown",
   "metadata": {},
   "source": [
    "# Creating Bibliographies in LaTeX"
   ]
  },
  {
   "cell_type": "markdown",
   "metadata": {},
   "source": [
    "*Objective: Learn the basic commands to create and edit in-text citations and bibliographies*"
   ]
  },
  {
   "cell_type": "markdown",
   "metadata": {},
   "source": [
    "## Getting started with a .bib file"
   ]
  },
  {
   "cell_type": "markdown",
   "metadata": {},
   "source": [
    "In order to include in-text citations and a bibliography, the document needs to refer to a .bib file. There are three ways to include a .bib file in a project in Overleaf."
   ]
  },
  {
   "cell_type": "markdown",
   "metadata": {},
   "source": [
    "1. Upload your own .bib file that you create or export from a citation manager.\n",
    "2. Link to a URL (.bib)\n",
    "3. Connect your Overleaf account with Mendeley or Zotero. "
   ]
  },
  {
   "cell_type": "markdown",
   "metadata": {},
   "source": [
    "If you are working in a traditional LaTeX editor, locate the .bib file in the directory."
   ]
  },
  {
   "cell_type": "markdown",
   "metadata": {},
   "source": [
    "## What does a citation in a .bib file look like? "
   ]
  },
  {
   "cell_type": "markdown",
   "metadata": {},
   "source": [
    "![bibkey](images/bibkey.png)"
   ]
  },
  {
   "cell_type": "markdown",
   "metadata": {},
   "source": [
    "## Bibliography Packages"
   ]
  },
  {
   "cell_type": "markdown",
   "metadata": {},
   "source": [
    "LaTeX uses two common packages to generate in-text citations and bibliographies.\n",
    "1. **natbib**: works best with author-year citations and numerical citations. This package works well for simple, short bibliographies, but is not supported and less commonly used. \n",
    "2. **biblatex**: the most flexible package for generating citations and the package that will be referred to in this document. "
   ]
  },
  {
   "cell_type": "markdown",
   "metadata": {},
   "source": [
    "Packages required for the preamble:"
   ]
  },
  {
   "cell_type": "markdown",
   "metadata": {},
   "source": [
    "`\\usepackage[backend=biber,style=authoryear]{biblatex}`"
   ]
  },
  {
   "cell_type": "markdown",
   "metadata": {},
   "source": [
    "The above syntax calls in the biblatex package and the backend (biber), which acts as the interface between the .bib file and the LaTeX document. \"Authoryear\" denotes the citation style. This can be changed accordingly."
   ]
  },
  {
   "cell_type": "markdown",
   "metadata": {},
   "source": [
    "`\\addbibresource{example.bib}`"
   ]
  },
  {
   "cell_type": "markdown",
   "metadata": {},
   "source": [
    "The above command calls in the .bib file, which has the citation information for in-text citations and the bibliography."
   ]
  },
  {
   "cell_type": "markdown",
   "metadata": {},
   "source": [
    "`\\printbibliography`"
   ]
  },
  {
   "cell_type": "markdown",
   "metadata": {},
   "source": [
    "The above command inserts the bibliography, which will contain citations referenced in the text."
   ]
  },
  {
   "cell_type": "markdown",
   "metadata": {},
   "source": [
    "## In-text citations"
   ]
  },
  {
   "cell_type": "markdown",
   "metadata": {},
   "source": [
    "`\\cite{}` → bare citation command (according to style)"
   ]
  },
  {
   "cell_type": "markdown",
   "metadata": {},
   "source": [
    "`\\parencite{}` → parenthetical citation"
   ]
  },
  {
   "cell_type": "markdown",
   "metadata": {},
   "source": [
    "`\\citeauthor{}` → prints author names(s)"
   ]
  },
  {
   "cell_type": "markdown",
   "metadata": {},
   "source": [
    "`\\textcite{}` → prints authors or editors followed by a citation label enclosed in ()\n"
   ]
  },
  {
   "cell_type": "markdown",
   "metadata": {},
   "source": [
    "`\\nocite {*}` → prints publication in bibliography without citation"
   ]
  },
  {
   "cell_type": "markdown",
   "metadata": {},
   "source": [
    "`\\citeyear{}` → prints only the year field"
   ]
  },
  {
   "cell_type": "markdown",
   "metadata": {},
   "source": [
    "### Examples "
   ]
  },
  {
   "cell_type": "markdown",
   "metadata": {},
   "source": [
    "`\\cite{knyazeva_duplex_2013}` → Knyazeva and Pohl 2013\n",
    "\n"
   ]
  },
  {
   "cell_type": "markdown",
   "metadata": {},
   "source": [
    "`\\parencite{singh_erratum:_2013}` → (Singh et al. 2013)\n",
    "\n"
   ]
  },
  {
   "cell_type": "markdown",
   "metadata": {},
   "source": [
    "`\\citeauthor{campbell_how_2011}` → Campbell and Cabrera "
   ]
  },
  {
   "cell_type": "markdown",
   "metadata": {},
   "source": [
    "`\\textcite{elsabbagh_microstructure_2014}` → Elsabbagh, Hamouda, and Taha (2014)\n"
   ]
  },
  {
   "cell_type": "markdown",
   "metadata": {},
   "source": [
    "## *Exercise 1*"
   ]
  },
  {
   "cell_type": "markdown",
   "metadata": {},
   "source": [
    "**Objective**: Learn to create, edit or upload a .bib file, use basic citation commands, and display a bibliography.\n",
    "\n",
    "### Create a .bib file and add references\n",
    "<ul>\n",
    "<li>Create a new file within your project (click on the paper icon in the upper left) and name it references.bib</li>\n",
    "<li>Search for these three articles and books in Google Scholar and locate their BibTeX formatted citations.</li>\n",
    "<ul>\n",
    "<li>10.1126/science.1214319</li>\n",
    "<li>Hydraulic power system analysis</li>\n",
    "<li>10.1103/PhysRevB.100.094418</li>\n",
    "</ul>\n",
    "<li>Paste each citation within your .bib file. (No preamble is needed).</li>\n",
    "</ul>"
   ]
  },
  {
   "cell_type": "markdown",
   "metadata": {},
   "source": [
    "![bibex](images/scholar_bibtex.png)"
   ]
  },
  {
   "cell_type": "markdown",
   "metadata": {},
   "source": [
    "### Adding a bibliography\n",
    "1. To display bibliography in APA style, add package and style command to preamble:<br>\n",
    "    \\usepackage[backend=biber,style=authoryear]{biblatex}<br>\n",
    "    \\addbibresource{references.bib}<br>\n",
    "2. And use these commands within document:<br>\n",
    "    \\printbibliography<br>\n",
    "    \\nocite{*}<br>\n",
    "\n",
    "### Citation commands\n",
    "Try using citation commands to recreate the sentence below:\n",
    "\n",
    "In the example provided, \\cite{weber2012ohm} describes the experiment, but \\citeauthor{akers2006hydraulic} contradicts these conclusions. \n",
    "\n",
    "<em>Commands needed:</em> \\cite{}, \\citeauthor{}\n",
    "\n",
    "For additional examples and more information, please visit Overleaf's page on [bibliography management in LaTeX](https://www.overleaf.com/learn/latex/Bibliography_management_in_LaTeX)"
   ]
  },
  {
   "cell_type": "code",
   "execution_count": null,
   "metadata": {},
   "outputs": [],
   "source": []
  }
 ],
 "metadata": {
  "kernelspec": {
   "display_name": "Python 3",
   "language": "python",
   "name": "python3"
  },
  "language_info": {
   "codemirror_mode": {
    "name": "ipython",
    "version": 3
   },
   "file_extension": ".py",
   "mimetype": "text/x-python",
   "name": "python",
   "nbconvert_exporter": "python",
   "pygments_lexer": "ipython3",
   "version": "3.7.6"
  }
 },
 "nbformat": 4,
 "nbformat_minor": 4
}
