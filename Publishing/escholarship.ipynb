{
 "cells": [
  {
   "cell_type": "markdown",
   "metadata": {},
   "source": [
    "# eScholarship at UC Berkeley"
   ]
  },
  {
   "cell_type": "markdown",
   "metadata": {},
   "source": [
    "![escholarship_logo](./images/escholarship_logo.png)"
   ]
  },
  {
   "cell_type": "markdown",
   "metadata": {},
   "source": [
    "**eScholarship Repository** offers preservation and dissemination services for a wide range of scholarship including working papers, electronic theses and dissertations (ETDs), student capstone projects, and paper/seminar series. eScholarship Repository is also the primary destination for researchers depositing their previously published journal articles in accordance with the Academic Senate’s UC Open Access Policy.\n",
    "\n",
    "[https://escholarship.org/uc/ucb/about](https://escholarship.org/uc/ucb/about)"
   ]
  },
  {
   "cell_type": "markdown",
   "metadata": {},
   "source": [
    "To deposit your work as a UC Berkeley affiliate, click on the \"Deposit\" button and follow the instructions according to your affiliation.\n",
    "\n",
    "![Deposit_by_affiliation](./images/deposit.png)"
   ]
  },
  {
   "cell_type": "code",
   "execution_count": 14,
   "metadata": {
    "tags": [
     "remove-cell"
    ]
   },
   "outputs": [
    {
     "name": "stdout",
     "output_type": "stream",
     "text": [
      "Requirement already satisfied: requests_html in /Library/Frameworks/Python.framework/Versions/3.7/lib/python3.7/site-packages (0.10.0)\n",
      "Requirement already satisfied: pyquery in /Library/Frameworks/Python.framework/Versions/3.7/lib/python3.7/site-packages (from requests_html) (1.4.3)\n",
      "Requirement already satisfied: parse in /Library/Frameworks/Python.framework/Versions/3.7/lib/python3.7/site-packages (from requests_html) (1.19.0)\n",
      "Requirement already satisfied: w3lib in /Library/Frameworks/Python.framework/Versions/3.7/lib/python3.7/site-packages (from requests_html) (1.22.0)\n",
      "Requirement already satisfied: pyppeteer>=0.0.14 in /Library/Frameworks/Python.framework/Versions/3.7/lib/python3.7/site-packages (from requests_html) (0.2.5)\n",
      "Requirement already satisfied: requests in /Library/Frameworks/Python.framework/Versions/3.7/lib/python3.7/site-packages (from requests_html) (2.22.0)\n",
      "Requirement already satisfied: fake-useragent in /Library/Frameworks/Python.framework/Versions/3.7/lib/python3.7/site-packages (from requests_html) (0.1.11)\n",
      "Requirement already satisfied: bs4 in /Library/Frameworks/Python.framework/Versions/3.7/lib/python3.7/site-packages (from requests_html) (0.0.1)\n",
      "Requirement already satisfied: lxml>=2.1 in /Library/Frameworks/Python.framework/Versions/3.7/lib/python3.7/site-packages (from pyquery->requests_html) (4.6.3)\n",
      "Requirement already satisfied: cssselect>0.7.9 in /Library/Frameworks/Python.framework/Versions/3.7/lib/python3.7/site-packages (from pyquery->requests_html) (1.1.0)\n",
      "Requirement already satisfied: six>=1.4.1 in /Library/Frameworks/Python.framework/Versions/3.7/lib/python3.7/site-packages (from w3lib->requests_html) (1.12.0)\n",
      "Requirement already satisfied: pyee<9.0.0,>=8.1.0 in /Library/Frameworks/Python.framework/Versions/3.7/lib/python3.7/site-packages (from pyppeteer>=0.0.14->requests_html) (8.1.0)\n",
      "Requirement already satisfied: urllib3<2.0.0,>=1.25.8 in /Library/Frameworks/Python.framework/Versions/3.7/lib/python3.7/site-packages (from pyppeteer>=0.0.14->requests_html) (1.26.6)\n",
      "Requirement already satisfied: importlib-metadata<3.0.0,>=2.1.1; python_version < \"3.8\" in /Library/Frameworks/Python.framework/Versions/3.7/lib/python3.7/site-packages (from pyppeteer>=0.0.14->requests_html) (2.1.1)\n",
      "Requirement already satisfied: tqdm<5.0.0,>=4.42.1 in /Library/Frameworks/Python.framework/Versions/3.7/lib/python3.7/site-packages (from pyppeteer>=0.0.14->requests_html) (4.61.1)\n",
      "Requirement already satisfied: websockets<9.0,>=8.1 in /Library/Frameworks/Python.framework/Versions/3.7/lib/python3.7/site-packages (from pyppeteer>=0.0.14->requests_html) (8.1)\n",
      "Requirement already satisfied: appdirs<2.0.0,>=1.4.3 in /Library/Frameworks/Python.framework/Versions/3.7/lib/python3.7/site-packages (from pyppeteer>=0.0.14->requests_html) (1.4.4)\n",
      "Requirement already satisfied: certifi>=2017.4.17 in /Library/Frameworks/Python.framework/Versions/3.7/lib/python3.7/site-packages (from requests->requests_html) (2019.6.16)\n",
      "Requirement already satisfied: idna<2.9,>=2.5 in /Library/Frameworks/Python.framework/Versions/3.7/lib/python3.7/site-packages (from requests->requests_html) (2.8)\n",
      "Requirement already satisfied: chardet<3.1.0,>=3.0.2 in /Library/Frameworks/Python.framework/Versions/3.7/lib/python3.7/site-packages (from requests->requests_html) (3.0.4)\n",
      "Requirement already satisfied: beautifulsoup4 in /Library/Frameworks/Python.framework/Versions/3.7/lib/python3.7/site-packages (from bs4->requests_html) (4.9.3)\n",
      "Requirement already satisfied: zipp>=0.5 in /Library/Frameworks/Python.framework/Versions/3.7/lib/python3.7/site-packages (from importlib-metadata<3.0.0,>=2.1.1; python_version < \"3.8\"->pyppeteer>=0.0.14->requests_html) (3.4.1)\n",
      "Requirement already satisfied: soupsieve>1.2; python_version >= \"3.0\" in /Library/Frameworks/Python.framework/Versions/3.7/lib/python3.7/site-packages (from beautifulsoup4->bs4->requests_html) (2.2.1)\n",
      "\u001b[33mYou are using pip version 19.0.3, however version 21.1.3 is available.\n",
      "You should consider upgrading via the 'pip install --upgrade pip' command.\u001b[0m\n"
     ]
    }
   ],
   "source": [
    "!pip3 install requests_html"
   ]
  },
  {
   "cell_type": "code",
   "execution_count": 15,
   "metadata": {
    "tags": [
     "remove-input"
    ]
   },
   "outputs": [],
   "source": [
    "import requests\n",
    "import pandas as pd\n",
    "from requests_html import HTML\n",
    "from requests_html import HTMLSession"
   ]
  },
  {
   "cell_type": "code",
   "execution_count": 16,
   "metadata": {
    "tags": [
     "remove-cell"
    ]
   },
   "outputs": [],
   "source": [
    "def get_source(url):\n",
    "    \"\"\"Return the source code for the provided URL. \n",
    "\n",
    "    Args: \n",
    "        url (string): URL of the page to scrape.\n",
    "\n",
    "    Returns:\n",
    "        response (object): HTTP response object from requests_html. \n",
    "    \"\"\"\n",
    "\n",
    "    try:\n",
    "        session = HTMLSession()\n",
    "        response = session.get(url)\n",
    "        return response\n",
    "\n",
    "    except requests.exceptions.RequestException as e:\n",
    "        print(e)"
   ]
  },
  {
   "cell_type": "code",
   "execution_count": 17,
   "metadata": {
    "tags": [
     "remove-cell"
    ]
   },
   "outputs": [],
   "source": [
    "url = \"https://escholarship.org/rss/unit/ucb_postprints\""
   ]
  },
  {
   "cell_type": "code",
   "execution_count": 98,
   "metadata": {
    "tags": [
     "remove-cell"
    ]
   },
   "outputs": [],
   "source": [
    "def get_feed(url):\n",
    "    \"\"\"Return a Pandas dataframe containing the RSS feed contents.\n",
    "\n",
    "    Args: \n",
    "        url (string): URL of the RSS feed to read.\n",
    "\n",
    "    Returns:\n",
    "        df (dataframe): Pandas dataframe containing the RSS feed contents.\n",
    "    \"\"\"\n",
    "    \n",
    "    response = get_source(url)\n",
    "    \n",
    "    df = pd.DataFrame(columns = ['title', 'date', 'guid'])\n",
    "\n",
    "    with response as r:\n",
    "        items = r.html.find(\"item\", first=False)\n",
    "\n",
    "        for item in items:        \n",
    "\n",
    "            title = item.find('title', first=True).text\n",
    "            guid = item.find('guid', first=True).text\n",
    "            date = item.find('pubdate', first=True).text\n",
    "\n",
    "            row = {'title': title, 'guid': guid, 'date': date}\n",
    "            df = df.append(row, ignore_index=True)\n",
    "\n",
    "    return df"
   ]
  },
  {
   "cell_type": "code",
   "execution_count": 117,
   "metadata": {
    "tags": [
     "remove-cell"
    ]
   },
   "outputs": [
    {
     "data": {
      "text/html": [
       "<div>\n",
       "<style scoped>\n",
       "    .dataframe tbody tr th:only-of-type {\n",
       "        vertical-align: middle;\n",
       "    }\n",
       "\n",
       "    .dataframe tbody tr th {\n",
       "        vertical-align: top;\n",
       "    }\n",
       "\n",
       "    .dataframe thead th {\n",
       "        text-align: right;\n",
       "    }\n",
       "</style>\n",
       "<table border=\"1\" class=\"dataframe\">\n",
       "  <thead>\n",
       "    <tr style=\"text-align: right;\">\n",
       "      <th></th>\n",
       "      <th>title</th>\n",
       "      <th>date</th>\n",
       "      <th>guid</th>\n",
       "    </tr>\n",
       "  </thead>\n",
       "  <tbody>\n",
       "    <tr>\n",
       "      <th>0</th>\n",
       "      <td>Capturing the Complex Histories of German Worl...</td>\n",
       "      <td>Wed, 30 Jun 2021 00:00:00 +0000</td>\n",
       "      <td>https://escholarship.org/uc/item/48q30649</td>\n",
       "    </tr>\n",
       "    <tr>\n",
       "      <th>1</th>\n",
       "      <td>A Co(II)-based Molecular Magnet with a 6 T Coe...</td>\n",
       "      <td>Mon, 28 Jun 2021 00:00:00 +0000</td>\n",
       "      <td>https://escholarship.org/uc/item/7tt0n82b</td>\n",
       "    </tr>\n",
       "    <tr>\n",
       "      <th>2</th>\n",
       "      <td>Background-free dual-mode optical and &lt;sup&gt;13&lt;...</td>\n",
       "      <td>Mon, 28 Jun 2021 00:00:00 +0000</td>\n",
       "      <td>https://escholarship.org/uc/item/2q38g0g5</td>\n",
       "    </tr>\n",
       "    <tr>\n",
       "      <th>3</th>\n",
       "      <td>Actinide tetra-N-heterocyclic carbene 'sandwic...</td>\n",
       "      <td>Thu, 24 Jun 2021 00:00:00 +0000</td>\n",
       "      <td>https://escholarship.org/uc/item/2j8503k9</td>\n",
       "    </tr>\n",
       "    <tr>\n",
       "      <th>4</th>\n",
       "      <td>Moat: Verifying confidentiality of enclave pro...</td>\n",
       "      <td>Thu, 24 Jun 2021 00:00:00 +0000</td>\n",
       "      <td>https://escholarship.org/uc/item/0qg1g2nm</td>\n",
       "    </tr>\n",
       "    <tr>\n",
       "      <th>5</th>\n",
       "      <td>Observing and Modeling the Sequential Pairwise...</td>\n",
       "      <td>Thu, 24 Jun 2021 00:00:00 +0000</td>\n",
       "      <td>https://escholarship.org/uc/item/0mt7m53c</td>\n",
       "    </tr>\n",
       "    <tr>\n",
       "      <th>6</th>\n",
       "      <td>At the intersection of immigration and welfare...</td>\n",
       "      <td>Wed, 23 Jun 2021 00:00:00 +0000</td>\n",
       "      <td>https://escholarship.org/uc/item/7dp0m5v3</td>\n",
       "    </tr>\n",
       "    <tr>\n",
       "      <th>7</th>\n",
       "      <td>Does State Unemployment Insurance Modernizatio...</td>\n",
       "      <td>Wed, 23 Jun 2021 00:00:00 +0000</td>\n",
       "      <td>https://escholarship.org/uc/item/6fh4231d</td>\n",
       "    </tr>\n",
       "    <tr>\n",
       "      <th>8</th>\n",
       "      <td>Sterile neutrino dark matter and leptogenesis ...</td>\n",
       "      <td>Tue, 22 Jun 2021 00:00:00 +0000</td>\n",
       "      <td>https://escholarship.org/uc/item/9h95x481</td>\n",
       "    </tr>\n",
       "    <tr>\n",
       "      <th>9</th>\n",
       "      <td>Predictions for axion couplings from ALP cogen...</td>\n",
       "      <td>Tue, 22 Jun 2021 00:00:00 +0000</td>\n",
       "      <td>https://escholarship.org/uc/item/436453p7</td>\n",
       "    </tr>\n",
       "  </tbody>\n",
       "</table>\n",
       "</div>"
      ],
      "text/plain": [
       "                                               title  \\\n",
       "0  Capturing the Complex Histories of German Worl...   \n",
       "1  A Co(II)-based Molecular Magnet with a 6 T Coe...   \n",
       "2  Background-free dual-mode optical and <sup>13<...   \n",
       "3  Actinide tetra-N-heterocyclic carbene 'sandwic...   \n",
       "4  Moat: Verifying confidentiality of enclave pro...   \n",
       "5  Observing and Modeling the Sequential Pairwise...   \n",
       "6  At the intersection of immigration and welfare...   \n",
       "7  Does State Unemployment Insurance Modernizatio...   \n",
       "8  Sterile neutrino dark matter and leptogenesis ...   \n",
       "9  Predictions for axion couplings from ALP cogen...   \n",
       "\n",
       "                              date                                       guid  \n",
       "0  Wed, 30 Jun 2021 00:00:00 +0000  https://escholarship.org/uc/item/48q30649  \n",
       "1  Mon, 28 Jun 2021 00:00:00 +0000  https://escholarship.org/uc/item/7tt0n82b  \n",
       "2  Mon, 28 Jun 2021 00:00:00 +0000  https://escholarship.org/uc/item/2q38g0g5  \n",
       "3  Thu, 24 Jun 2021 00:00:00 +0000  https://escholarship.org/uc/item/2j8503k9  \n",
       "4  Thu, 24 Jun 2021 00:00:00 +0000  https://escholarship.org/uc/item/0qg1g2nm  \n",
       "5  Thu, 24 Jun 2021 00:00:00 +0000  https://escholarship.org/uc/item/0mt7m53c  \n",
       "6  Wed, 23 Jun 2021 00:00:00 +0000  https://escholarship.org/uc/item/7dp0m5v3  \n",
       "7  Wed, 23 Jun 2021 00:00:00 +0000  https://escholarship.org/uc/item/6fh4231d  \n",
       "8  Tue, 22 Jun 2021 00:00:00 +0000  https://escholarship.org/uc/item/9h95x481  \n",
       "9  Tue, 22 Jun 2021 00:00:00 +0000  https://escholarship.org/uc/item/436453p7  "
      ]
     },
     "execution_count": 117,
     "metadata": {},
     "output_type": "execute_result"
    }
   ],
   "source": [
    "df = get_feed(url)\n",
    "df.head(10)"
   ]
  },
  {
   "cell_type": "code",
   "execution_count": 118,
   "metadata": {
    "tags": [
     "remove-cell"
    ]
   },
   "outputs": [],
   "source": [
    "df['date'] = df['date'].str.slice(stop=16)"
   ]
  },
  {
   "cell_type": "markdown",
   "metadata": {},
   "source": [
    "## Ten Most Recent Postprints in eScholarship"
   ]
  },
  {
   "cell_type": "code",
   "execution_count": 119,
   "metadata": {
    "tags": [
     "hide-input"
    ]
   },
   "outputs": [
    {
     "data": {
      "text/html": [
       "<div>\n",
       "<style scoped>\n",
       "    .dataframe tbody tr th:only-of-type {\n",
       "        vertical-align: middle;\n",
       "    }\n",
       "\n",
       "    .dataframe tbody tr th {\n",
       "        vertical-align: top;\n",
       "    }\n",
       "\n",
       "    .dataframe thead th {\n",
       "        text-align: right;\n",
       "    }\n",
       "</style>\n",
       "<table border=\"1\" class=\"dataframe\">\n",
       "  <thead>\n",
       "    <tr style=\"text-align: right;\">\n",
       "      <th></th>\n",
       "      <th>Title</th>\n",
       "      <th>Date</th>\n",
       "      <th>Link</th>\n",
       "    </tr>\n",
       "  </thead>\n",
       "  <tbody>\n",
       "    <tr>\n",
       "      <th>0</th>\n",
       "      <td>Capturing the Complex Histories of German Worl...</td>\n",
       "      <td>Wed, 30 Jun 2021</td>\n",
       "      <td>https://escholarship.org/uc/item/48q30649</td>\n",
       "    </tr>\n",
       "    <tr>\n",
       "      <th>1</th>\n",
       "      <td>A Co(II)-based Molecular Magnet with a 6 T Coe...</td>\n",
       "      <td>Mon, 28 Jun 2021</td>\n",
       "      <td>https://escholarship.org/uc/item/7tt0n82b</td>\n",
       "    </tr>\n",
       "    <tr>\n",
       "      <th>2</th>\n",
       "      <td>Background-free dual-mode optical and &lt;sup&gt;13&lt;...</td>\n",
       "      <td>Mon, 28 Jun 2021</td>\n",
       "      <td>https://escholarship.org/uc/item/2q38g0g5</td>\n",
       "    </tr>\n",
       "    <tr>\n",
       "      <th>3</th>\n",
       "      <td>Actinide tetra-N-heterocyclic carbene 'sandwic...</td>\n",
       "      <td>Thu, 24 Jun 2021</td>\n",
       "      <td>https://escholarship.org/uc/item/2j8503k9</td>\n",
       "    </tr>\n",
       "    <tr>\n",
       "      <th>4</th>\n",
       "      <td>Moat: Verifying confidentiality of enclave pro...</td>\n",
       "      <td>Thu, 24 Jun 2021</td>\n",
       "      <td>https://escholarship.org/uc/item/0qg1g2nm</td>\n",
       "    </tr>\n",
       "    <tr>\n",
       "      <th>5</th>\n",
       "      <td>Observing and Modeling the Sequential Pairwise...</td>\n",
       "      <td>Thu, 24 Jun 2021</td>\n",
       "      <td>https://escholarship.org/uc/item/0mt7m53c</td>\n",
       "    </tr>\n",
       "    <tr>\n",
       "      <th>6</th>\n",
       "      <td>At the intersection of immigration and welfare...</td>\n",
       "      <td>Wed, 23 Jun 2021</td>\n",
       "      <td>https://escholarship.org/uc/item/7dp0m5v3</td>\n",
       "    </tr>\n",
       "    <tr>\n",
       "      <th>7</th>\n",
       "      <td>Does State Unemployment Insurance Modernizatio...</td>\n",
       "      <td>Wed, 23 Jun 2021</td>\n",
       "      <td>https://escholarship.org/uc/item/6fh4231d</td>\n",
       "    </tr>\n",
       "    <tr>\n",
       "      <th>8</th>\n",
       "      <td>Sterile neutrino dark matter and leptogenesis ...</td>\n",
       "      <td>Tue, 22 Jun 2021</td>\n",
       "      <td>https://escholarship.org/uc/item/9h95x481</td>\n",
       "    </tr>\n",
       "    <tr>\n",
       "      <th>9</th>\n",
       "      <td>Predictions for axion couplings from ALP cogen...</td>\n",
       "      <td>Tue, 22 Jun 2021</td>\n",
       "      <td>https://escholarship.org/uc/item/436453p7</td>\n",
       "    </tr>\n",
       "  </tbody>\n",
       "</table>\n",
       "</div>"
      ],
      "text/plain": [
       "                                               Title              Date  \\\n",
       "0  Capturing the Complex Histories of German Worl...  Wed, 30 Jun 2021   \n",
       "1  A Co(II)-based Molecular Magnet with a 6 T Coe...  Mon, 28 Jun 2021   \n",
       "2  Background-free dual-mode optical and <sup>13<...  Mon, 28 Jun 2021   \n",
       "3  Actinide tetra-N-heterocyclic carbene 'sandwic...  Thu, 24 Jun 2021   \n",
       "4  Moat: Verifying confidentiality of enclave pro...  Thu, 24 Jun 2021   \n",
       "5  Observing and Modeling the Sequential Pairwise...  Thu, 24 Jun 2021   \n",
       "6  At the intersection of immigration and welfare...  Wed, 23 Jun 2021   \n",
       "7  Does State Unemployment Insurance Modernizatio...  Wed, 23 Jun 2021   \n",
       "8  Sterile neutrino dark matter and leptogenesis ...  Tue, 22 Jun 2021   \n",
       "9  Predictions for axion couplings from ALP cogen...  Tue, 22 Jun 2021   \n",
       "\n",
       "                                        Link  \n",
       "0  https://escholarship.org/uc/item/48q30649  \n",
       "1  https://escholarship.org/uc/item/7tt0n82b  \n",
       "2  https://escholarship.org/uc/item/2q38g0g5  \n",
       "3  https://escholarship.org/uc/item/2j8503k9  \n",
       "4  https://escholarship.org/uc/item/0qg1g2nm  \n",
       "5  https://escholarship.org/uc/item/0mt7m53c  \n",
       "6  https://escholarship.org/uc/item/7dp0m5v3  \n",
       "7  https://escholarship.org/uc/item/6fh4231d  \n",
       "8  https://escholarship.org/uc/item/9h95x481  \n",
       "9  https://escholarship.org/uc/item/436453p7  "
      ]
     },
     "execution_count": 119,
     "metadata": {},
     "output_type": "execute_result"
    }
   ],
   "source": [
    "df = df.rename(columns={'title': 'Title', 'date': 'Date','guid':'Link'})\n",
    "df.head(10)"
   ]
  },
  {
   "cell_type": "code",
   "execution_count": null,
   "metadata": {},
   "outputs": [],
   "source": []
  },
  {
   "cell_type": "code",
   "execution_count": null,
   "metadata": {},
   "outputs": [],
   "source": []
  }
 ],
 "metadata": {
  "celltoolbar": "Tags",
  "kernelspec": {
   "display_name": "Python 3",
   "language": "python",
   "name": "python3"
  },
  "language_info": {
   "codemirror_mode": {
    "name": "ipython",
    "version": 3
   },
   "file_extension": ".py",
   "mimetype": "text/x-python",
   "name": "python",
   "nbconvert_exporter": "python",
   "pygments_lexer": "ipython3",
   "version": "3.7.6"
  }
 },
 "nbformat": 4,
 "nbformat_minor": 4
}
