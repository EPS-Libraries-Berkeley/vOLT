{
 "cells": [
  {
   "cell_type": "markdown",
   "metadata": {},
   "source": [
    "**Welcome**"
   ]
  },
  {
   "cell_type": "markdown",
   "metadata": {},
   "source": [
    "Welcome to the Engineering & Physical Sciences Libraries' virtual Online Library Tutorials (vOLT). Whether you're searching for articles, streamlining your research workflows, or organizing data, citations and writing, we have expertise and resources to help you.\n",
    "\n",
    "Each chapter of this guide is designed to help you with resources to manage various aspects of the research process. If you have questions about this guide or the resources described, you are welcome to <a href=\"https://www.lib.berkeley.edu/help/ask-science-reference-question\" target=\"_top\">ask a Science Librarian</a>. Additional resources can also be found on the Library's guide to <a href=\"https://www.lib.berkeley.edu/research-support\" target=\"_top\">Research Support</a> and on the Library's list of <a href=\"https://www.lib.berkeley.edu/research-support/guides-and-tutorials\" target=\"_top\">Guides and Tutorials</a>."
   ]
  },
  {
   "cell_type": "markdown",
   "metadata": {},
   "source": [
    "![KristenLibrary.png](Introduction/images/KristenLibrary.png)"
   ]
  },
  {
   "cell_type": "code",
   "execution_count": null,
   "metadata": {},
   "outputs": [],
   "source": []
  }
 ],
 "metadata": {
  "kernelspec": {
   "display_name": "Python 3",
   "language": "python",
   "name": "python3"
  },
  "language_info": {
   "codemirror_mode": {
    "name": "ipython",
    "version": 3
   },
   "file_extension": ".py",
   "mimetype": "text/x-python",
   "name": "python",
   "nbconvert_exporter": "python",
   "pygments_lexer": "ipython3",
   "version": "3.7.6"
  }
 },
 "nbformat": 4,
 "nbformat_minor": 4
}
