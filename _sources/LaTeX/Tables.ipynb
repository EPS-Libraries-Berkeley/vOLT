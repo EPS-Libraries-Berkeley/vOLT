{
 "cells": [
  {
   "cell_type": "markdown",
   "metadata": {},
   "source": [
    "# Tables"
   ]
  },
  {
   "cell_type": "markdown",
   "metadata": {},
   "source": [
    "*Objective: Learn the basic commands to create and edit tables.*"
   ]
  },
  {
   "cell_type": "markdown",
   "metadata": {},
   "source": [
    "Basic tables can be created with a combination of the commands below and the **use package**: `tabularx`"
   ]
  },
  {
   "cell_type": "markdown",
   "metadata": {},
   "source": [
    "|Basic Commands|Description|\n",
    "|-|-|\n",
    "|`l, r, c` | column alignment|\n",
    "|`&` |ampersand separates columns|\n",
    "| `\\\\` | double backslash begins new row|\n",
    "| `\\hline` |horizontal line|\n",
    "| \\| |\tvertical line|"
   ]
  },
  {
   "cell_type": "markdown",
   "metadata": {},
   "source": [
    "### Example: Creating a basic two column table"
   ]
  },
  {
   "cell_type": "markdown",
   "metadata": {},
   "source": [
    "![Basic](images/tables_basic.png)"
   ]
  },
  {
   "cell_type": "markdown",
   "metadata": {},
   "source": [
    "### Example: Adding vertical and horizontal lines"
   ]
  },
  {
   "cell_type": "markdown",
   "metadata": {},
   "source": [
    "![Lines](images/tables_lines.png)"
   ]
  },
  {
   "cell_type": "markdown",
   "metadata": {},
   "source": [
    "### Example: Centering and adding a caption\n",
    "\n",
    "Note the addition the `\\caption` and `\\centering` commands."
   ]
  },
  {
   "cell_type": "markdown",
   "metadata": {},
   "source": [
    "![Caption](images/tables_caption.png)"
   ]
  },
  {
   "cell_type": "markdown",
   "metadata": {},
   "source": [
    "## *Exercise 1: Basic Table*\n",
    "\n",
    "Use the `tabularx` package to create a simple table of the [US Women’s Soccer Team’s 2019 World Cup Starting Roster](https://www.ussoccer.com/stories/2019/05/meet-the-usas-2019-fifa-womens-world-cup-team).\n",
    "\n",
    "Begin with a header row and two columns.\n",
    "* Your two column headers will be: Position and Last Name – Left align the text of the left column\n",
    "* Center the text of the right column\n",
    "* Add vertical and horizontal lines\n",
    "\n",
    "Add a caption “2019 Team Roster” and center the table.  \n",
    "Note: Using the `\\caption{}` command will add the phrase “Table 1” in front of caption.\n",
    "\n",
    "Use package needed: `tabularx`\n",
    "\n",
    "Commands needed:  \n",
    "`&` = column separator  \n",
    "`\\\\` = begin new row  \n",
    "`l, r, c` = column alignment  \n",
    "\n",
    "![Multiple Columns](images/table1.png)"
   ]
  },
  {
   "cell_type": "markdown",
   "metadata": {},
   "source": [
    "## *Exercise 2: Multirow, Multicolumn Tables*"
   ]
  },
  {
   "cell_type": "markdown",
   "metadata": {},
   "source": [
    "Create a table like the one below with columns spanning multiple rows or rows spanning multiple columns."
   ]
  },
  {
   "cell_type": "markdown",
   "metadata": {},
   "source": [
    "![Multiple Columns](images/table2.png)"
   ]
  },
  {
   "cell_type": "markdown",
   "metadata": {},
   "source": [
    "Packages needed:  \n",
    "- `\\usepackage{booktabs}` \n",
    "- `\\usepackage{multirow}` \n",
    "- `\\usepackage{tablenotes}` \n",
    "\n",
    "```{note}\n",
    "This is a good example to see how additional packages can contradict each other. You may need to alter vertical spacing to center the 2011 - 2015 - 2019 row.\n",
    "```\n",
    "\n",
    "This is the style that many journals require. It will give you the basic stepping stones to create charts like: \n",
    "\n",
    "```{image} ./images/table-acton-2021.png\n",
    ":alt: Table from Acton 2021\n",
    ":width: 400px\n",
    ":align: center\n",
    "```\n",
    "\n",
    "\n",
    "from: Acton, Riley K. \"Community college program choices in the wake of local job losses.\" Journal of Labor Economics 39.4 (2021): 1129-1154. [https://doi.org/10.1086/712555](https://doi.org/10.1086/712555)\n",
    "\n",
    "*Questions?*  \n",
    "Consult the answer key in the Overleaf Project to troubleshoot: [https://www.overleaf.com/read/zhytgdvnpsqx](https://www.overleaf.com/read/zhytgdvnpsqx)"
   ]
  },
  {
   "cell_type": "markdown",
   "metadata": {},
   "source": [
    "More information sources:  \n",
    "\n",
    "- Roster: [https://www.ussoccer.com/players](https://www.ussoccer.com/players)\n",
    "- Tables info: [https://en.wikibooks.org/wiki/LaTeX/Tables](https://en.wikibooks.org/wiki/LaTeX/Tables)\n",
    "- Multicolumn/Multirow: [https://en.wikibooks.org/wiki/LaTeX/Tables](https://en.wikibooks.org/wiki/LaTeX/Tables)"
   ]
  },
  {
   "cell_type": "markdown",
   "metadata": {},
   "source": [
    "## *Exercise 3: Challenge - Incorporating Bar Charts*\n",
    "\n",
    "Let’s try to recreate [this figure](https://www.economist.com/graphic-detail/2014/06/05/the-spectacle-of-sports) showing attendance at football events in 2013 from the Economist.\n",
    "\n",
    "```{image} ./images/examplechart.png\n",
    ":alt: Table from Acton 2021\n",
    ":width: 400px\n",
    ":align: center\n",
    "```\n",
    "\n",
    "There are a number of ways to get started, but these are some of the steps you will need to take:\n",
    "- Make a table: Create a tabular enviroment\n",
    "- Columns: Add the appropriate number of columns\n",
    "- Data: Start adding data to your rows\n",
    "- Fonts: Can you change the default font to sanserif, can you make the header row bold?\n",
    "- Color: Can you introduce alternating row colors?\n",
    "- Spacing: Can you adjust column width and row height?\n",
    "- Extra: How can you include a bar for scale next to a numeric value?\n",
    "\n",
    "```{image} ./images/table3.png\n",
    ":alt: Attempt at remaking a bar chart table\n",
    ":width: 600px\n",
    ":align: center\n",
    "```\n",
    "\n",
    "\n",
    "Remember there are many ways to accomplish the same thing in LaTeX. Getting the results you want may take some trial and error."
   ]
  },
  {
   "cell_type": "markdown",
   "metadata": {},
   "source": [
    "## *Exercise 4: Converting a pandas table into LaTeX*\n",
    "\n",
    "There are many ways to convert a table into LaTeX. One common scenario involves converting and exporting a Pandas Dataframe into a LaTeX formatted table. \n",
    "\n",
    "This can be accomplished using the command:\n",
    "\n",
    "`print(df.to_latex())`\n",
    "\n",
    "First create your dataframe, then print using the above command. See below:"
   ]
  },
  {
   "cell_type": "code",
   "execution_count": 8,
   "metadata": {},
   "outputs": [
    {
     "name": "stderr",
     "output_type": "stream",
     "text": [
      "UsageError: Line magic function `%Create` not found.\n"
     ]
    }
   ],
   "source": [
    "import pandas as pd\n",
    "\n",
    "df = pd.DataFrame(dict(state=['California', 'Colorado'],\n",
    "                  mountain=['Whitney', 'Elbert'],\n",
    "                  flower=['poppy', 'columbine']))\n",
    "print(df)"
   ]
  },
  {
   "cell_type": "code",
   "execution_count": 7,
   "metadata": {},
   "outputs": [
    {
     "name": "stdout",
     "output_type": "stream",
     "text": [
      "\\begin{tabular}{llll}\n",
      "\\toprule\n",
      "{} &       state & mountain &     flower \\\\\n",
      "\\midrule\n",
      "0 &  California &  Whitney &      poppy \\\\\n",
      "1 &    Colorado &   Elbert &  columbine \\\\\n",
      "\\bottomrule\n",
      "\\end{tabular}\n",
      "\n"
     ]
    }
   ],
   "source": [
    "import pandas as pd\n",
    "\n",
    "df = pd.DataFrame(dict(state=['California', 'Colorado'],\n",
    "                  mountain=['Whitney', 'Elbert'],\n",
    "                  flower=['poppy', 'columbine']))\n",
    "print(df.to_latex())"
   ]
  },
  {
   "cell_type": "markdown",
   "metadata": {},
   "source": [
    "## Information sources\n",
    "\n",
    "- Soccer Roster: https://www.ussoccer.com/players\n",
    "- General Table Information: https://en.wikibooks.org/wiki/LaTeX/Tables\n",
    "- Multicolumn/Multirow: https://en.wikibooks.org/wiki/LaTeX/Tables#Defining_multiple_columns\n",
    "- Bar charts within tables: https://tex.stackexchange.com/questions/173042/is-it-possible-to-create-a-barchart-in-a-table\n",
    "- Pandas Conversion: https://pandas.pydata.org/docs/reference/api/pandas.DataFrame.to_latex.html\n"
   ]
  },
  {
   "cell_type": "code",
   "execution_count": null,
   "metadata": {},
   "outputs": [],
   "source": []
  }
 ],
 "metadata": {
  "kernelspec": {
   "display_name": "Python 3 (ipykernel)",
   "language": "python",
   "name": "python3"
  },
  "language_info": {
   "codemirror_mode": {
    "name": "ipython",
    "version": 3
   },
   "file_extension": ".py",
   "mimetype": "text/x-python",
   "name": "python",
   "nbconvert_exporter": "python",
   "pygments_lexer": "ipython3",
   "version": "3.9.7"
  }
 },
 "nbformat": 4,
 "nbformat_minor": 4
}
