{
 "cells": [
  {
   "cell_type": "markdown",
   "metadata": {},
   "source": [
    "# Figures"
   ]
  },
  {
   "cell_type": "markdown",
   "metadata": {},
   "source": [
    "*Objective:* Learn to upload and position figures in Overleaf.\n",
    "\n",
    "### Uploading a figure\n",
    "\n",
    "Incorporating images and figures into your Overleaf project is best accomplished by creating your figures, particularly graphs and plots, outside of Overleaf and then importing them into Overleaf. \n",
    "\n",
    "Click on the \"upload\" icon and navigate to the location of your figure.\n",
    "\n",
    "![upload](images/tables_figure.png)\n"
   ]
  },
  {
   "cell_type": "markdown",
   "metadata": {},
   "source": [
    "###  Figure Placement \n",
    "\n",
    "Use the following specifiers to adjust the placement of your figures."
   ]
  },
  {
   "cell_type": "markdown",
   "metadata": {},
   "source": [
    "|Specifier|Permission|\n",
    "|----|----|\n",
    "|h|Place the float here: approximately, not exactly, at the same point it occurs in the source text|\n",
    "|t|Position at the top of the page|\n",
    "|b|Position at the bottom of the page|\n",
    "|p|Put on a special page for floats only|\n",
    "|!|Override internal parameters LaTeX uses for determining \"good\" float positions|\n",
    "|H|Places the float at precisely the location in the LaTeX code. Requires the float package. This is somewhat equivalent to h!|"
   ]
  },
  {
   "cell_type": "markdown",
   "metadata": {},
   "source": [
    "  ## *Exercise 1: Upload a figure*\n",
    "\n",
    "1. To upload image, choose an image of your own, or find file at: [https://github.com/EPS-Libraries-Berkeley/LaTeX/blob/master/keyboard_cat.png](https://github.com/EPS-Libraries-Berkeley/LaTeX/blob/master/keyboard_cat.png)\n",
    "2. Download keyboard_cat.png, and upload file to the Overleaf project.\n",
    "3. Place image with these commands:   \n",
    "`\\usepackage{graphicx}`  \n",
    "`\\includegraphics[width=0.4\\textwidth]{keyboard_cat}`"
   ]
  },
  {
   "cell_type": "markdown",
   "metadata": {},
   "source": [
    "![cat](images/keyboard_cat.png)"
   ]
  },
  {
   "cell_type": "markdown",
   "metadata": {},
   "source": [
    "## *Exercise 2: Designate figure position*\n",
    "Use b, t, h to see where figure moves. You might need to add additional text in the document to see how the figure placement varies."
   ]
  },
  {
   "cell_type": "markdown",
   "metadata": {},
   "source": [
    "`\\begin{figure}[b]`  \n",
    "`\\centering`    \n",
    "`\\includegraphics[width=0.6\\textwidth]{keyboard_cat}`   \n",
    "`\\end{figure}`"
   ]
  },
  {
   "cell_type": "markdown",
   "metadata": {},
   "source": [
    "### Syncing and Uploading figures hosted elsewhere\n",
    "\n",
    "Find more information about syncing and hosting your figures outside of Overleaf.\n",
    "\n",
    "Google Drive: [https://www.overleaf.com/help/247-how-can-i-upload-files-from-google-drive#.W4WtwhPwZE5](https://www.overleaf.com/help/247-how-can-i-upload-files-from-google-drive#.W4WtwhPwZE5)  \n",
    "GitHub/Dropbox: [https://www.overleaf.com/help/343#.W4WtgxPwZE4](https://www.overleaf.com/help/343#.W4WtgxPwZE4)  \n"
   ]
  },
  {
   "cell_type": "code",
   "execution_count": null,
   "metadata": {},
   "outputs": [],
   "source": []
  }
 ],
 "metadata": {
  "kernelspec": {
   "display_name": "Python 3 (ipykernel)",
   "language": "python",
   "name": "python3"
  },
  "language_info": {
   "codemirror_mode": {
    "name": "ipython",
    "version": 3
   },
   "file_extension": ".py",
   "mimetype": "text/x-python",
   "name": "python",
   "nbconvert_exporter": "python",
   "pygments_lexer": "ipython3",
   "version": "3.9.7"
  }
 },
 "nbformat": 4,
 "nbformat_minor": 4
}
