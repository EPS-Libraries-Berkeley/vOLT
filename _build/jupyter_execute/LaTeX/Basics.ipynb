{
 "cells": [
  {
   "cell_type": "markdown",
   "metadata": {},
   "source": [
    "# Basics"
   ]
  },
  {
   "cell_type": "markdown",
   "metadata": {},
   "source": [
    "### What is LaTeX?\n",
    "\n",
    "LaTeX is a typesetting system that allows you to focus on your content instead of formatting - formatting is done separately from entry.\n",
    "\n",
    "You tell LaTeX “what it is” not “how it looks.\""
   ]
  },
  {
   "cell_type": "markdown",
   "metadata": {},
   "source": [
    "### LaTeX using Overleaf\n",
    "\n",
    "* Create documents via a cloud-based account\n",
    "* Source code or rich text format\n",
    "* Collaborating and sharing documents\n",
    "* Versioning and track changes\n",
    "* Templates for a variety of documents and publishers\n",
    "* Link with other tools in your research workflow\n",
    "* Pro account with your berkeley.edu address\n"
   ]
  },
  {
   "cell_type": "code",
   "execution_count": 1,
   "metadata": {
    "execution": {
     "iopub.execute_input": "2020-06-16T22:39:11.389688Z",
     "iopub.status.busy": "2020-06-16T22:39:11.388224Z",
     "iopub.status.idle": "2020-06-16T22:39:11.393401Z",
     "shell.execute_reply": "2020-06-16T22:39:11.392378Z"
    }
   },
   "outputs": [],
   "source": [
    "#image of side by side document goes here"
   ]
  },
  {
   "cell_type": "markdown",
   "metadata": {},
   "source": [
    "### Structure of a document"
   ]
  },
  {
   "cell_type": "markdown",
   "metadata": {},
   "source": [
    "| Term | Description | Example |\n",
    "|-|-|-|\n",
    "| Command | Control sequence which performs an action | \\newpage|\n",
    "| Preamble | Block of commands that define the type of document you are writing,  the language you are writing in, the packages you would like to use. Comes before \\begin{document}| \\documentclass{article}|\n",
    "| Package | Enable you to create bibliographies, insert images and figures, and write formulas. | \\usepackage{amsmath} |\n",
    "| Environment | Block of code with specific behavior depending on its type | \\begin{} & \\end{} |\n",
    "| Body | Content of document enclosed inside an environment | \\begin{document} |"
   ]
  },
  {
   "cell_type": "markdown",
   "metadata": {},
   "source": [
    "### *Note*: \n",
    "\n",
    "* Comments: \n",
    "Use % to create a comment. Nothing on the line after the % will be typeset.\n",
    "\n",
    "* Restricted Characters: \n",
    "Certain symbols require a backslash to appear, like $, &, #, and %.\n"
   ]
  },
  {
   "cell_type": "markdown",
   "metadata": {},
   "source": [
    "### Basic Commands"
   ]
  },
  {
   "cell_type": "markdown",
   "metadata": {},
   "source": [
    "* **Bold**: \\textbf{example}\n",
    "* *Italics*: \\textit{example}\n",
    "* Underline: \\underline{example}\n",
    "\n",
    "Font typefaces: Change in preamble. More information:\n",
    "https://v2.overleaf.com/learn/Font_typefaces\n"
   ]
  },
  {
   "cell_type": "markdown",
   "metadata": {},
   "source": [
    "### Make Title"
   ]
  },
  {
   "cell_type": "markdown",
   "metadata": {},
   "source": [
    "1. The simplest option is to use the \\maketitle command which draws from the following declarations within the preamble:  \n",
    "\\author  \n",
    "\\date  \n",
    "\\thanks  \n",
    "\\title    \n",
    "  \n",
    "2. OR use the  \n",
    "\\begin{titlepage}  \n",
    "...  \n",
    "\\end{titlepage}  \n",
    "environment. \n",
    "\n",
    "The titlepage environment creates a title page, i.e. a page with no printed page number or heading. It also causes the following page to be numbered page one. \n",
    "Formatting is left to you, but commands like \\centering, \\vspace, and \\vfill are helpful."
   ]
  },
  {
   "cell_type": "markdown",
   "metadata": {},
   "source": [
    "### Basic Math"
   ]
  },
  {
   "cell_type": "markdown",
   "metadata": {},
   "source": [
    "\\require{verb}\n",
    "\n",
    "To display math inline with text, place formula or symbol in between $:\n",
    "\n",
    "\\verb|$x + y = z$|\n",
    "\n",
    "$x + y = z$"
   ]
  },
  {
   "cell_type": "code",
   "execution_count": 2,
   "metadata": {
    "execution": {
     "iopub.execute_input": "2020-06-16T22:39:11.399919Z",
     "iopub.status.busy": "2020-06-16T22:39:11.399009Z",
     "iopub.status.idle": "2020-06-16T22:39:11.402147Z",
     "shell.execute_reply": "2020-06-16T22:39:11.401528Z"
    }
   },
   "outputs": [],
   "source": [
    "#Display mode \\mathtt{\\[ x + y = z \\]}, will center the equation on its own line:\n",
    "#\\[ x + y = z \\]\n"
   ]
  },
  {
   "cell_type": "markdown",
   "metadata": {},
   "source": [
    "### *EXERCISE 1*\n",
    "\n",
    "*Objective:  \n",
    "Practice several basic LaTeX commands in a new project.*\n"
   ]
  },
  {
   "cell_type": "markdown",
   "metadata": {},
   "source": [
    "1. Open new project in Overleaf\n",
    "2. Create title page  \n",
    "    1. Add [title page] to make preamble command \\documentclass[titlepage]{article}\n",
    "    2.  After \\title, add \"class LaTeX assignment\"\n",
    "    3.  After \\author, add your name\n",
    "    4.  Confirm that the date is correct or edit if needed\n",
    "    5.  Create **Title Page** using command \\maketitle inserted after \\begin{document}\n",
    "3. Add a new section labeled \"Practice\" using the \\section* command.\n",
    "4. Add the following paragraph under that section using \"inline\" math commands:"
   ]
  },
  {
   "cell_type": "markdown",
   "metadata": {},
   "source": [
    "Commands needed: \n",
    "#add commands"
   ]
  },
  {
   "cell_type": "code",
   "execution_count": null,
   "metadata": {},
   "outputs": [],
   "source": []
  }
 ],
 "metadata": {
  "kernelspec": {
   "display_name": "Python 3",
   "language": "python",
   "name": "python3"
  },
  "language_info": {
   "codemirror_mode": {
    "name": "ipython",
    "version": 3
   },
   "file_extension": ".py",
   "mimetype": "text/x-python",
   "name": "python",
   "nbconvert_exporter": "python",
   "pygments_lexer": "ipython3",
   "version": "3.7.6"
  }
 },
 "nbformat": 4,
 "nbformat_minor": 4
}