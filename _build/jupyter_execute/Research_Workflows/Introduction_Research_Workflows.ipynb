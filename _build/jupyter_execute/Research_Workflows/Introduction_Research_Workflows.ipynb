{
 "cells": [
  {
   "cell_type": "markdown",
   "metadata": {},
   "source": [
    "# Introduction to Research Workflows"
   ]
  },
  {
   "cell_type": "markdown",
   "metadata": {},
   "source": [
    "Think of your research workflow as a cycle with smaller cycles nested within your broad approach.\n",
    "\n",
    "This is an example of a basic, simplified model - moving from initial discovery and searching for information, to data collection, then analysis, writing up results, publication, and lastly a consideration of outreach and impact of your work.\n"
   ]
  },
  {
   "cell_type": "markdown",
   "metadata": {},
   "source": [
    "![Research Workflows](./images/Research_Workflow_Cycles.png)"
   ]
  },
  {
   "cell_type": "markdown",
   "metadata": {},
   "source": [
    "Real workflows are never this simple.\n",
    "\n",
    "This is an example of more complex, iterative model. You can see how multiple cycles nest within the larger cycle as each aspect of the workflow requires revisions, edits, clarifying experiments, etc."
   ]
  },
  {
   "cell_type": "markdown",
   "metadata": {},
   "source": [
    "![Multicycle Workflow](./images/multicycle_workflow.png)"
   ]
  },
  {
   "cell_type": "markdown",
   "metadata": {},
   "source": [
    "{cite}`bosman_kramer_2016`  "
   ]
  },
  {
   "cell_type": "code",
   "execution_count": 1,
   "metadata": {
    "execution": {
     "iopub.execute_input": "2020-06-18T16:12:51.128822Z",
     "iopub.status.busy": "2020-06-18T16:12:51.128151Z",
     "iopub.status.idle": "2020-06-18T16:12:51.131456Z",
     "shell.execute_reply": "2020-06-18T16:12:51.130801Z"
    }
   },
   "outputs": [],
   "source": [
    "#add more content about research workflows, how to open, and layout of next chapters"
   ]
  },
  {
   "cell_type": "code",
   "execution_count": null,
   "metadata": {},
   "outputs": [],
   "source": []
  }
 ],
 "metadata": {
  "kernelspec": {
   "display_name": "Python 3",
   "language": "python",
   "name": "python3"
  },
  "language_info": {
   "codemirror_mode": {
    "name": "ipython",
    "version": 3
   },
   "file_extension": ".py",
   "mimetype": "text/x-python",
   "name": "python",
   "nbconvert_exporter": "python",
   "pygments_lexer": "ipython3",
   "version": "3.7.6"
  }
 },
 "nbformat": 4,
 "nbformat_minor": 4
}