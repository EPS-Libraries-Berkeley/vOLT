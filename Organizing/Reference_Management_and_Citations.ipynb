{
 "cells": [
  {
   "cell_type": "markdown",
   "metadata": {},
   "source": [
    "# Reference Management and Citations"
   ]
  },
  {
   "cell_type": "code",
   "execution_count": null,
   "metadata": {
    "collapsed": true
   },
   "outputs": [],
   "source": []
  },
  {
   "cell_type": "markdown",
   "metadata": {},
   "source": [
    "Streamline your research and writing workflows by adopting reference management software (also known as citation management software). These tools can help you organize, annotate, tag your readings and share with research partners. When you’re ready to write they can automatically generate in-text citations and bibliographies in many different styles."
   ]
  },
  {
   "cell_type": "markdown",
   "metadata": {},
   "source": [
    "## Software"
   ]
  },
  {
   "cell_type": "markdown",
   "metadata": {},
   "source": [
    "[Comparison of reference management software (Wikipedia)](https://en.wikipedia.org/wiki/Comparison_of_reference_management_software)"
   ]
  },
  {
   "cell_type": "markdown",
   "metadata": {},
   "source": [
    "Recommended:\n",
    "* [Zotero](https://guides.lib.berkeley.edu/zotero)\n",
    "* [Mendeley](https://guides.lib.berkeley.edu/mendeley)\n",
    "* [EndNote](https://guides.lib.berkeley.edu/endnote)\n",
    "* [Refworks](https://guides.lib.berkeley.edu/newrefworks)"
   ]
  },
  {
   "cell_type": "markdown",
   "metadata": {},
   "source": [
    "## Choosing a Tool"
   ]
  },
  {
   "cell_type": "markdown",
   "metadata": {},
   "source": [
    "You have a lot of options when choosing a tool, and some tools may be better suited than others depending on your needs. No matter what you choose, be assured that it is fairly easy to export your library and import to another tool if you change your mind (though you may lose notes attached to specific records). Here are some questions to consider as you think about which tool to use:\n",
    "* What does your lab / PI / Advisor use? (perhaps the most important question)\n",
    "* Is it free (or cheap)?\n",
    "* What is the learning curve?\n",
    "* Do you write collaboratively with others?\n",
    "* What word processing software do you use for writing?\n",
    "* Will you need to work offline?"
   ]
  },
  {
   "cell_type": "markdown",
   "metadata": {},
   "source": [
    "## Try it out: Self-guided Zotero Tutorial"
   ]
  },
  {
   "cell_type": "markdown",
   "metadata": {},
   "source": [
    "<style>\n",
    ".responsive-wrap iframe{ max-width: 100%;}\n",
    "</style>\n",
    "<div class=\"responsive-wrap\">\n",
    "<!-- this is the embed code provided by Google -->\n",
    "<iframe src=\"https://docs.google.com/presentation/d/e/2PACX-1vQr3Pj7DaLWNruddL96II9BkFqmW3a40p_yPiJC3oeOSAk3DPlg1HjOb2785-YaHzQHNCF3hMh1XsN_/embed?start=false&loop=false&delayms=30000\" frameborder=\"0\" width=\"960\" height=\"500\" allowfullscreen=\"true\" mozallowfullscreen=\"true\" webkitallowfullscreen=\"true\"></iframe>\n",
    "<!-- Google embed ends -->\n",
    "</div>"
   ]
  }
 ],
 "metadata": {
  "kernelspec": {
   "display_name": "Python 3",
   "language": "python",
   "name": "python3"
  },
  "language_info": {
   "codemirror_mode": {
    "name": "ipython",
    "version": 3
   },
   "file_extension": ".py",
   "mimetype": "text/x-python",
   "name": "python",
   "nbconvert_exporter": "python",
   "pygments_lexer": "ipython3",
   "version": "3.8.5"
  }
 },
 "nbformat": 4,
 "nbformat_minor": 2
}
