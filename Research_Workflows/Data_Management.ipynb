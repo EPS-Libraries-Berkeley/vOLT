{
 "cells": [
  {
   "cell_type": "markdown",
   "metadata": {},
   "source": [
    "# Data_Management"
   ]
  },
  {
   "cell_type": "markdown",
   "metadata": {},
   "source": []
  },
  {
   "cell_type": "markdown",
   "metadata": {},
   "source": [
    "Research data management is the care and organization of data and other research outputs over the course of a project."
   ]
  },
  {
   "cell_type": "markdown",
   "metadata": {},
   "source": [
    "By instituting good practices early on in your workflow, you will prevent data loss and circumvent other future issues. Implementing the right techniques makes the research process more simple and efficient. Many of the simple data management techniques introduced in this chapter will streamline your research and writing workflow in addition to making it easier for your future self to revisit research. You may be revisiting data files after taking a brief vacation, or you may be revisiting research years after it has been completed. You will also be collaborating with others within your department and some of you may even engage in cross-disciplinary collaborations. \n"
   ]
  },
  {
   "cell_type": "code",
   "execution_count": null,
   "metadata": {},
   "outputs": [],
   "source": []
  }
 ],
 "metadata": {
  "kernelspec": {
   "display_name": "Python 3",
   "language": "python",
   "name": "python3"
  },
  "language_info": {
   "codemirror_mode": {
    "name": "ipython",
    "version": 3
   },
   "file_extension": ".py",
   "mimetype": "text/x-python",
   "name": "python",
   "nbconvert_exporter": "python",
   "pygments_lexer": "ipython3",
   "version": "3.7.6"
  }
 },
 "nbformat": 4,
 "nbformat_minor": 2
}
